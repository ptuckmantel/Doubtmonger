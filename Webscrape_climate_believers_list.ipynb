{
 "cells": [
  {
   "cell_type": "markdown",
   "metadata": {},
   "source": [
    "# Webscraping lists of climate change accepting institutions\n",
    "\n",
    "Webscrape the list from the Desmoblog websites. \n",
    "http://www.aag.org/cs/programs/interdisciplinary/climatechange/clearinghouse/organizations\n",
    "and\n",
    "https://climatestore.com/take-action/get-involved/non-profit-organizations-working-on-climate-change\n",
    "\n",
    "The goal is to then use google news search ' \"[institute name]\" \"climate change\" ' and get the first few pages.\n",
    "    \n",
    "This will allow us to get a dataset of climate change accepting articles with the body of text, year, institution"
   ]
  },
  {
   "cell_type": "code",
   "execution_count": 1,
   "metadata": {},
   "outputs": [],
   "source": [
    "import requests\n",
    "from bs4 import BeautifulSoup as bs\n",
    "import numpy as np\n",
    "import pandas as pd"
   ]
  },
  {
   "cell_type": "markdown",
   "metadata": {},
   "source": [
    "## Climatestore"
   ]
  },
  {
   "cell_type": "code",
   "execution_count": 2,
   "metadata": {},
   "outputs": [],
   "source": [
    "url = \"https://climatestore.com/take-action/get-involved/non-profit-organizations-working-on-climate-change\"\n",
    "page = requests.get(url)\n",
    "soup = bs(page.content, 'html.parser')"
   ]
  },
  {
   "cell_type": "code",
   "execution_count": 7,
   "metadata": {},
   "outputs": [],
   "source": [
    "results = soup.find_all(class_='grid-nx3-1fr')"
   ]
  },
  {
   "cell_type": "code",
   "execution_count": 8,
   "metadata": {},
   "outputs": [],
   "source": [
    "category_names = []\n",
    "insts = {}\n",
    "grid_elements = results[0].find_all('div')#[0].find_all('a')[1]\n",
    "for category in grid_elements:\n",
    "    # Separate each category\n",
    "    cat_name = category.find('h3').text\n",
    "    category_names.append(cat_name)\n",
    "    # Get names of institutions for each category\n",
    "    inst_names = category.find_all('a')\n",
    "    institutions = []\n",
    "    for inst in inst_names:\n",
    "        name = inst.contents[0]\n",
    "        # Some have an additional '- Podcast' or other media to the name. Remove this\n",
    "        name = name.split('-')[0]\n",
    "        institutions.append(name)\n",
    "    institutions.remove('\\n')\n",
    "    #Some have duplicates after removing the additional media (podcast, radio etc)\n",
    "    institutions = list(np.unique(institutions))\n",
    "    insts[cat_name] = institutions\n",
    "\n",
    "    \n"
   ]
  },
  {
   "cell_type": "code",
   "execution_count": 9,
   "metadata": {},
   "outputs": [
    {
     "data": {
      "text/plain": [
       "{'Climate Change Action': ['350.org',\n",
       "  'Citizens Climate Lobby',\n",
       "  'Climate Reality Project',\n",
       "  'Climate Solutions',\n",
       "  'ConservAmerica',\n",
       "  'Earth Justice',\n",
       "  'GreenPeace USA',\n",
       "  'Moms Clean Air Force',\n",
       "  'Mothers Out Front',\n",
       "  'NextGen Climate',\n",
       "  'Union of Concerned Scientists',\n",
       "  'iMatter'],\n",
       " 'Climate Change Education': ['ACE ',\n",
       "  'CAMEL Climate Adaption Mitigation E',\n",
       "  'CCEP ',\n",
       "  'Climate Reality Project ',\n",
       "  'I See Change '],\n",
       " 'Wildlife/Ecosytem Conservation': ['Audubon Society',\n",
       "  'Conservation International',\n",
       "  'Conservation Land Foundation',\n",
       "  'Environmental Defense Fund (EDF)',\n",
       "  'Land Trust Alliance',\n",
       "  'National Wildlife Federation (NWF)',\n",
       "  'Natural Resources Defense Council (NRDC)',\n",
       "  'Nature Conservancy',\n",
       "  'Polar Bears International',\n",
       "  'Rainforest Action Network (RAN)',\n",
       "  'Sierra Club',\n",
       "  'The Wilderness Society',\n",
       "  'World Wildlife Federation (WWF)'],\n",
       " 'Ocean Conservation': ['Marine Conservation Institute',\n",
       "  'Ocean Conservancy',\n",
       "  'Oceana',\n",
       "  'The Safina Center'],\n",
       " 'Faith Based Groups': ['Catholic Climate Covenant',\n",
       "  'Evangelical Environmental Network ',\n",
       "  'Interfaith Power and Light',\n",
       "  'Islamic Relief USA',\n",
       "  'Jewish Climate Action Network',\n",
       "  \"Pope Francis' Encyclical Resources\",\n",
       "  'Presbyterians for Earth Care',\n",
       "  'UCC Climate Change',\n",
       "  'Unitarian Universalist Ministry for Earth'],\n",
       " 'Foundations Working on Climate Change': [\"Climate Central's \",\n",
       "  'ClimateWorks',\n",
       "  'Moore Charitable Foundation',\n",
       "  'Skoll Global Threats Fund',\n",
       "  'The Paulson Institute',\n",
       "  'The Pew Charitable Trust',\n",
       "  'The Rockefeller Foundation'],\n",
       " 'Renewables & Energy Efficiency': ['Alliance to Save Energy',\n",
       "  'American Wind Energy Association',\n",
       "  'DESIRE ',\n",
       "  'Energy Sage ',\n",
       "  'Geothermal Energy Association',\n",
       "  'Solar Energy Industries Association'],\n",
       " 'Climate News': ['Climate Central',\n",
       "  'Climate One ',\n",
       "  'Daily Climate',\n",
       "  'Grist',\n",
       "  'Inside Climate News',\n",
       "  'Living On Earth ',\n",
       "  'Mashable ',\n",
       "  'The Gaurdian ',\n",
       "  'Yale Climate Connections '],\n",
       " 'Sustainable Commerce': ['1% For The Planet',\n",
       "  'American Sustainable Business Council',\n",
       "  'Carbon War Room',\n",
       "  'Ceres',\n",
       "  'Sustainable Brands']}"
      ]
     },
     "execution_count": 9,
     "metadata": {},
     "output_type": "execute_result"
    }
   ],
   "source": [
    "insts"
   ]
  },
  {
   "cell_type": "code",
   "execution_count": 224,
   "metadata": {},
   "outputs": [],
   "source": [
    "climate_trusting_climatestore =pd.DataFrame(dict([ (k,pd.Series(v)) for k,v in insts.items() ]))\n",
    "climate_trusting_climatestore.to_excel('climate_trusting_climatestore.xlsx')"
   ]
  },
  {
   "cell_type": "markdown",
   "metadata": {},
   "source": [
    "## American Association of Geographers (AAG)"
   ]
  },
  {
   "cell_type": "code",
   "execution_count": 12,
   "metadata": {},
   "outputs": [],
   "source": [
    "url = \"http://www.aag.org/cs/programs/interdisciplinary/climatechange/clearinghouse/organizations#content\"\n",
    "page = requests.get(url)\n",
    "soup = bs(page.content, 'html.parser')"
   ]
  },
  {
   "cell_type": "code",
   "execution_count": 13,
   "metadata": {},
   "outputs": [],
   "source": [
    "results = soup.find_all(class_='bcms-searchable')"
   ]
  },
  {
   "cell_type": "code",
   "execution_count": 14,
   "metadata": {},
   "outputs": [],
   "source": [
    "# Extract the names of the recommended organisations\n",
    "names = []\n",
    "res = results[0].find_all('p')\n",
    "for r in res:\n",
    "    name = r.find_all('a')[0].contents\n",
    "    names.append(name[0])"
   ]
  },
  {
   "cell_type": "code",
   "execution_count": 15,
   "metadata": {},
   "outputs": [
    {
     "data": {
      "text/plain": [
       "['U.S. Environmental Protection Agency (EPA) - Climate Change Science',\n",
       " 'NOAA Education - Climate Change and Our Planet',\n",
       " 'Intergovernmental Panel on Climate Change (IPCC)',\n",
       " 'National Center for Atmospheric Research (NCAR)',\n",
       " 'Center for Remote Sensing of Ice Sheets (CReSIS)',\n",
       " 'National Climate Data Center (NCDC)',\n",
       " 'World Meteorological Organization',\n",
       " 'United Nations Environment Programme (UNEP), Climate Change',\n",
       " 'United Nations Framework Convention on Climate Change (UNFCCC)',\n",
       " 'Pew Center on Global Climate Change',\n",
       " 'Food and Agriculture Organization (FAO) of the United Nations – Climate Change',\n",
       " 'National Snow and Ice Data Center (NSIDC)',\n",
       " 'International Geosphere-Biosphere Programme (IGBP)']"
      ]
     },
     "execution_count": 15,
     "metadata": {},
     "output_type": "execute_result"
    }
   ],
   "source": [
    "names"
   ]
  },
  {
   "cell_type": "code",
   "execution_count": 16,
   "metadata": {},
   "outputs": [],
   "source": [
    "# Clean up the names \n",
    "\n",
    "\n",
    "# remove acronyms using regex\n",
    "import re\n",
    "names = [re.sub(' \\([^()]*\\)', '', n) for n in names]\n",
    "\n",
    "# remove parts after \"-\" and \",\"\n",
    "names = [n.split(' - ')[0] for n in names]\n",
    "names = [n.split(' , ')[0] for n in names]"
   ]
  },
  {
   "cell_type": "code",
   "execution_count": 17,
   "metadata": {},
   "outputs": [
    {
     "data": {
      "text/plain": [
       "['U.S. Environmental Protection Agency',\n",
       " 'NOAA Education',\n",
       " 'Intergovernmental Panel on Climate Change',\n",
       " 'National Center for Atmospheric Research',\n",
       " 'Center for Remote Sensing of Ice Sheets',\n",
       " 'National Climate Data Center',\n",
       " 'World Meteorological Organization',\n",
       " 'United Nations Environment Programme, Climate Change',\n",
       " 'United Nations Framework Convention on Climate Change',\n",
       " 'Pew Center on Global Climate Change',\n",
       " 'Food and Agriculture Organization of the United Nations – Climate Change',\n",
       " 'National Snow and Ice Data Center',\n",
       " 'International Geosphere-Biosphere Programme']"
      ]
     },
     "execution_count": 17,
     "metadata": {},
     "output_type": "execute_result"
    }
   ],
   "source": [
    "names"
   ]
  },
  {
   "cell_type": "code",
   "execution_count": 18,
   "metadata": {},
   "outputs": [],
   "source": [
    "climate_trusting_aag = pd.DataFrame({'American Association of Geographers recommendations': names})\n",
    "climate_trusting_aag.to_excel('climate_trusting_aag.xlsx')"
   ]
  },
  {
   "cell_type": "code",
   "execution_count": 19,
   "metadata": {},
   "outputs": [
    {
     "data": {
      "text/html": [
       "<div>\n",
       "<style scoped>\n",
       "    .dataframe tbody tr th:only-of-type {\n",
       "        vertical-align: middle;\n",
       "    }\n",
       "\n",
       "    .dataframe tbody tr th {\n",
       "        vertical-align: top;\n",
       "    }\n",
       "\n",
       "    .dataframe thead th {\n",
       "        text-align: right;\n",
       "    }\n",
       "</style>\n",
       "<table border=\"1\" class=\"dataframe\">\n",
       "  <thead>\n",
       "    <tr style=\"text-align: right;\">\n",
       "      <th></th>\n",
       "      <th>American Association of Geographers recommendations</th>\n",
       "    </tr>\n",
       "  </thead>\n",
       "  <tbody>\n",
       "    <tr>\n",
       "      <th>0</th>\n",
       "      <td>U.S. Environmental Protection Agency</td>\n",
       "    </tr>\n",
       "    <tr>\n",
       "      <th>1</th>\n",
       "      <td>NOAA Education</td>\n",
       "    </tr>\n",
       "    <tr>\n",
       "      <th>2</th>\n",
       "      <td>Intergovernmental Panel on Climate Change</td>\n",
       "    </tr>\n",
       "    <tr>\n",
       "      <th>3</th>\n",
       "      <td>National Center for Atmospheric Research</td>\n",
       "    </tr>\n",
       "    <tr>\n",
       "      <th>4</th>\n",
       "      <td>Center for Remote Sensing of Ice Sheets</td>\n",
       "    </tr>\n",
       "    <tr>\n",
       "      <th>5</th>\n",
       "      <td>National Climate Data Center</td>\n",
       "    </tr>\n",
       "    <tr>\n",
       "      <th>6</th>\n",
       "      <td>World Meteorological Organization</td>\n",
       "    </tr>\n",
       "    <tr>\n",
       "      <th>7</th>\n",
       "      <td>United Nations Environment Programme, Climate ...</td>\n",
       "    </tr>\n",
       "    <tr>\n",
       "      <th>8</th>\n",
       "      <td>United Nations Framework Convention on Climate...</td>\n",
       "    </tr>\n",
       "    <tr>\n",
       "      <th>9</th>\n",
       "      <td>Pew Center on Global Climate Change</td>\n",
       "    </tr>\n",
       "    <tr>\n",
       "      <th>10</th>\n",
       "      <td>Food and Agriculture Organization of the Unite...</td>\n",
       "    </tr>\n",
       "    <tr>\n",
       "      <th>11</th>\n",
       "      <td>National Snow and Ice Data Center</td>\n",
       "    </tr>\n",
       "    <tr>\n",
       "      <th>12</th>\n",
       "      <td>International Geosphere-Biosphere Programme</td>\n",
       "    </tr>\n",
       "  </tbody>\n",
       "</table>\n",
       "</div>"
      ],
      "text/plain": [
       "   American Association of Geographers recommendations\n",
       "0                U.S. Environmental Protection Agency \n",
       "1                                      NOAA Education \n",
       "2           Intergovernmental Panel on Climate Change \n",
       "3            National Center for Atmospheric Research \n",
       "4             Center for Remote Sensing of Ice Sheets \n",
       "5                        National Climate Data Center \n",
       "6                   World Meteorological Organization \n",
       "7   United Nations Environment Programme, Climate ... \n",
       "8   United Nations Framework Convention on Climate... \n",
       "9                 Pew Center on Global Climate Change \n",
       "10  Food and Agriculture Organization of the Unite... \n",
       "11                  National Snow and Ice Data Center \n",
       "12        International Geosphere-Biosphere Programme "
      ]
     },
     "execution_count": 19,
     "metadata": {},
     "output_type": "execute_result"
    }
   ],
   "source": [
    "climate_trusting_aag"
   ]
  },
  {
   "cell_type": "code",
   "execution_count": null,
   "metadata": {},
   "outputs": [],
   "source": []
  }
 ],
 "metadata": {
  "kernelspec": {
   "display_name": "doubtmonger",
   "language": "python",
   "name": "doubtmonger"
  },
  "language_info": {
   "codemirror_mode": {
    "name": "ipython",
    "version": 3
   },
   "file_extension": ".py",
   "mimetype": "text/x-python",
   "name": "python",
   "nbconvert_exporter": "python",
   "pygments_lexer": "ipython3",
   "version": "3.8.5"
  }
 },
 "nbformat": 4,
 "nbformat_minor": 4
}
